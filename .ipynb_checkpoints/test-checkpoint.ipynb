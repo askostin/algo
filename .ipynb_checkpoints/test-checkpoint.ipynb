{
 "cells": [
  {
   "cell_type": "code",
   "execution_count": 15,
   "id": "a521e779",
   "metadata": {},
   "outputs": [],
   "source": [
    "import sys\n",
    "import math"
   ]
  },
  {
   "cell_type": "code",
   "execution_count": 23,
   "id": "a6e6b825",
   "metadata": {},
   "outputs": [],
   "source": [
    "def float_precision(number: float) -> int:\n",
    "    \"\"\"\n",
    "    Find number of digits on the right sight of the decimal point.\n",
    "    \"\"\"\n",
    "    number_whole_part = int(math.trunc(number))\n",
    "    number_frac_part = abs(number) % 1\n",
    "    tmp = number_frac_part\n",
    "    digits = 0\n",
    "    while (tmp != math.trunc(tmp)) :\n",
    "        digits += 1\n",
    "        tmp *= 10\n",
    "    return digits\n",
    "\n",
    "def float2fraction(number: float) -> tuple:\n",
    "    \"\"\"\n",
    "    Converts decimal number to rational fraction in the form of tuple (n, d), where n and d are mutually prime.\n",
    "    Analog of standard library function float.as_integer_ratio()\n",
    "    \"\"\"\n",
    "    whole_part = math.trunc(number)\n",
    "    frac_part = abs(number - whole_part)\n",
    "    sign = -1 if (number < 0) else 1\n",
    "    frac_digits = float_precision(frac_part)\n",
    "    denom = 10**frac_digits\n",
    "    nom = sign * (whole_part * denom + frac_part * denom)\n",
    "    return (int(nom), int(denom))"
   ]
  },
  {
   "cell_type": "code",
   "execution_count": 25,
   "id": "6fd24cd9",
   "metadata": {},
   "outputs": [],
   "source": [
    "a = 1.2"
   ]
  },
  {
   "cell_type": "code",
   "execution_count": 26,
   "id": "1c9802d2",
   "metadata": {},
   "outputs": [
    {
     "data": {
      "text/plain": [
       "17"
      ]
     },
     "execution_count": 26,
     "metadata": {},
     "output_type": "execute_result"
    }
   ],
   "source": [
    "float_precision(a)"
   ]
  },
  {
   "cell_type": "code",
   "execution_count": 27,
   "id": "63032401",
   "metadata": {},
   "outputs": [
    {
     "data": {
      "text/plain": [
       "0.19999999999999996"
      ]
     },
     "execution_count": 27,
     "metadata": {},
     "output_type": "execute_result"
    }
   ],
   "source": [
    "a % 1"
   ]
  },
  {
   "cell_type": "code",
   "execution_count": 28,
   "id": "1e899386",
   "metadata": {},
   "outputs": [
    {
     "data": {
      "text/plain": [
       "1.0"
      ]
     },
     "execution_count": 28,
     "metadata": {},
     "output_type": "execute_result"
    }
   ],
   "source": [
    "a // 1"
   ]
  },
  {
   "cell_type": "code",
   "execution_count": 20,
   "id": "f4cea0bd",
   "metadata": {},
   "outputs": [
    {
     "data": {
      "text/plain": [
       "0.19999999999999996"
      ]
     },
     "execution_count": 20,
     "metadata": {},
     "output_type": "execute_result"
    }
   ],
   "source": [
    "1.2 - int(math.trunc(1.2))"
   ]
  },
  {
   "cell_type": "code",
   "execution_count": 14,
   "id": "6a169c2d",
   "metadata": {},
   "outputs": [
    {
     "data": {
      "text/plain": [
       "0.19999999999999996"
      ]
     },
     "execution_count": 14,
     "metadata": {},
     "output_type": "execute_result"
    }
   ],
   "source": [
    "1.2 - math.floor(1.2)"
   ]
  },
  {
   "cell_type": "code",
   "execution_count": 38,
   "id": "02e6526e",
   "metadata": {},
   "outputs": [],
   "source": [
    "frac, whole = math.modf(2.3)"
   ]
  },
  {
   "cell_type": "code",
   "execution_count": 39,
   "id": "54dc55b7",
   "metadata": {},
   "outputs": [
    {
     "data": {
      "text/plain": [
       "0.2999999999999998"
      ]
     },
     "execution_count": 39,
     "metadata": {},
     "output_type": "execute_result"
    }
   ],
   "source": [
    "frac"
   ]
  },
  {
   "cell_type": "code",
   "execution_count": 40,
   "id": "fe43f1ca",
   "metadata": {},
   "outputs": [
    {
     "data": {
      "text/plain": [
       "2.0"
      ]
     },
     "execution_count": 40,
     "metadata": {},
     "output_type": "execute_result"
    }
   ],
   "source": [
    "whole"
   ]
  },
  {
   "cell_type": "code",
   "execution_count": 16,
   "id": "6f4857fa",
   "metadata": {},
   "outputs": [
    {
     "data": {
      "text/plain": [
       "sys.float_info(max=1.7976931348623157e+308, max_exp=1024, max_10_exp=308, min=2.2250738585072014e-308, min_exp=-1021, min_10_exp=-307, dig=15, mant_dig=53, epsilon=2.220446049250313e-16, radix=2, rounds=1)"
      ]
     },
     "execution_count": 16,
     "metadata": {},
     "output_type": "execute_result"
    }
   ],
   "source": [
    "sys.float_info"
   ]
  },
  {
   "cell_type": "code",
   "execution_count": 17,
   "id": "2c473bd5",
   "metadata": {},
   "outputs": [
    {
     "data": {
      "text/plain": [
       "1"
      ]
     },
     "execution_count": 17,
     "metadata": {},
     "output_type": "execute_result"
    }
   ],
   "source": [
    "sys.float_info.rounds"
   ]
  },
  {
   "cell_type": "code",
   "execution_count": 18,
   "id": "3f9ec845",
   "metadata": {},
   "outputs": [
    {
     "data": {
      "text/plain": [
       "15"
      ]
     },
     "execution_count": 18,
     "metadata": {},
     "output_type": "execute_result"
    }
   ],
   "source": [
    "sys.float_info.dig"
   ]
  },
  {
   "cell_type": "code",
   "execution_count": 41,
   "id": "5ab39f13",
   "metadata": {},
   "outputs": [
    {
     "data": {
      "text/plain": [
       "(5404319552844595, 4503599627370496)"
      ]
     },
     "execution_count": 41,
     "metadata": {},
     "output_type": "execute_result"
    }
   ],
   "source": [
    "float.as_integer_ratio(1.2)"
   ]
  },
  {
   "cell_type": "code",
   "execution_count": 42,
   "id": "65a51176",
   "metadata": {},
   "outputs": [
    {
     "data": {
      "text/plain": [
       "1.2"
      ]
     },
     "execution_count": 42,
     "metadata": {},
     "output_type": "execute_result"
    }
   ],
   "source": [
    "5404319552844595 / 4503599627370496"
   ]
  },
  {
   "cell_type": "code",
   "execution_count": 43,
   "id": "3ea71d7e",
   "metadata": {},
   "outputs": [
    {
     "data": {
      "text/plain": [
       "'1.2'"
      ]
     },
     "execution_count": 43,
     "metadata": {},
     "output_type": "execute_result"
    }
   ],
   "source": [
    "str(1.2)"
   ]
  },
  {
   "cell_type": "code",
   "execution_count": 53,
   "id": "9624261b",
   "metadata": {},
   "outputs": [],
   "source": [
    "def float_precision(num: float) -> int:\n",
    "    \"\"\"\n",
    "    Find number of digits on the right sight of the decimal point.\n",
    "    \"\"\"\n",
    "    if (num == math.trunc(num)):\n",
    "        return 0\n",
    "    else :\n",
    "        string_form = str(num)\n",
    "        num_parts = string_form.partition('.')\n",
    "    return len(num_parts[2])"
   ]
  },
  {
   "cell_type": "code",
   "execution_count": 54,
   "id": "cbda91ab",
   "metadata": {},
   "outputs": [
    {
     "data": {
      "text/plain": [
       "0"
      ]
     },
     "execution_count": 54,
     "metadata": {},
     "output_type": "execute_result"
    }
   ],
   "source": [
    "float_precision(5)"
   ]
  },
  {
   "cell_type": "code",
   "execution_count": 55,
   "id": "61c58f44",
   "metadata": {},
   "outputs": [
    {
     "data": {
      "text/plain": [
       "2"
      ]
     },
     "execution_count": 55,
     "metadata": {},
     "output_type": "execute_result"
    }
   ],
   "source": [
    "float_precision(1.55)"
   ]
  },
  {
   "cell_type": "code",
   "execution_count": 56,
   "id": "ad39a5e3",
   "metadata": {},
   "outputs": [
    {
     "data": {
      "text/plain": [
       "8"
      ]
     },
     "execution_count": 56,
     "metadata": {},
     "output_type": "execute_result"
    }
   ],
   "source": [
    "float_precision(-2.78999999)"
   ]
  },
  {
   "cell_type": "code",
   "execution_count": 57,
   "id": "c31a05f4",
   "metadata": {},
   "outputs": [
    {
     "data": {
      "text/plain": [
       "4567"
      ]
     },
     "execution_count": 57,
     "metadata": {},
     "output_type": "execute_result"
    }
   ],
   "source": [
    "int('4567')"
   ]
  },
  {
   "cell_type": "code",
   "execution_count": 77,
   "id": "774498fc",
   "metadata": {},
   "outputs": [],
   "source": [
    "def gcd(a, b: int) -> int:\n",
    "        if ((a < 0) or (b < 0)) :\n",
    "                raise ValueError('Both numbers have to be non-negative integers.')\n",
    "        else :\n",
    "            return a if (b == 0) else gcd(b, a % b)"
   ]
  },
  {
   "cell_type": "code",
   "execution_count": 89,
   "id": "a713f89b",
   "metadata": {},
   "outputs": [],
   "source": [
    "def float2fraction(num: float) -> tuple:\n",
    "    \"\"\"\n",
    "    Converts decimal number to rational fraction in the form of tuple (n, d), where n and d are mutually prime.\n",
    "    Analog of standard library function float.as_integer_ratio()\n",
    "    \"\"\"\n",
    "    if (num == math.trunc(num)):\n",
    "        return (int(num), 1)\n",
    "    else :\n",
    "        sign = 1 if (num >= 0) else -1\n",
    "        string_form = str(abs(num))\n",
    "        num_parts = string_form.partition('.')\n",
    "        whole = int(num_parts[0])\n",
    "        frac = int(num_parts[2])\n",
    "        frac_digits = len(num_parts[2])\n",
    "        d = 10**frac_digits\n",
    "        n = (d * whole + frac)\n",
    "        gcd_nd = gcd(n, d)\n",
    "        if (gcd_nd != 1) :\n",
    "            n /= gcd_nd\n",
    "            d /= gcd_nd\n",
    "        return (int(sign*n), int(d))"
   ]
  },
  {
   "cell_type": "code",
   "execution_count": 90,
   "id": "83420169",
   "metadata": {},
   "outputs": [
    {
     "data": {
      "text/plain": [
       "(1, 1)"
      ]
     },
     "execution_count": 90,
     "metadata": {},
     "output_type": "execute_result"
    }
   ],
   "source": [
    "float2fraction(1)"
   ]
  },
  {
   "cell_type": "code",
   "execution_count": 91,
   "id": "413ac6e7",
   "metadata": {},
   "outputs": [
    {
     "data": {
      "text/plain": [
       "(12, 1)"
      ]
     },
     "execution_count": 91,
     "metadata": {},
     "output_type": "execute_result"
    }
   ],
   "source": [
    "float2fraction(12)"
   ]
  },
  {
   "cell_type": "code",
   "execution_count": 92,
   "id": "c86fae15",
   "metadata": {},
   "outputs": [
    {
     "data": {
      "text/plain": [
       "(-12, 1)"
      ]
     },
     "execution_count": 92,
     "metadata": {},
     "output_type": "execute_result"
    }
   ],
   "source": [
    "float2fraction(-12)"
   ]
  },
  {
   "cell_type": "code",
   "execution_count": 93,
   "id": "fa0f9f79",
   "metadata": {
    "scrolled": true
   },
   "outputs": [
    {
     "data": {
      "text/plain": [
       "(-1277, 100)"
      ]
     },
     "execution_count": 93,
     "metadata": {},
     "output_type": "execute_result"
    }
   ],
   "source": [
    "float2fraction(-12.77)"
   ]
  },
  {
   "cell_type": "code",
   "execution_count": 94,
   "id": "119eed5e",
   "metadata": {},
   "outputs": [
    {
     "data": {
      "text/plain": [
       "(9, 2)"
      ]
     },
     "execution_count": 94,
     "metadata": {},
     "output_type": "execute_result"
    }
   ],
   "source": [
    "float2fraction(4.5)"
   ]
  },
  {
   "cell_type": "code",
   "execution_count": 95,
   "id": "078fa21b",
   "metadata": {},
   "outputs": [
    {
     "data": {
      "text/plain": [
       "(-6, 5)"
      ]
     },
     "execution_count": 95,
     "metadata": {},
     "output_type": "execute_result"
    }
   ],
   "source": [
    "float2fraction(-1.2)"
   ]
  }
 ],
 "metadata": {
  "kernelspec": {
   "display_name": "Python 3",
   "language": "python",
   "name": "python3"
  },
  "language_info": {
   "codemirror_mode": {
    "name": "ipython",
    "version": 3
   },
   "file_extension": ".py",
   "mimetype": "text/x-python",
   "name": "python",
   "nbconvert_exporter": "python",
   "pygments_lexer": "ipython3",
   "version": "3.8.8"
  }
 },
 "nbformat": 4,
 "nbformat_minor": 5
}
